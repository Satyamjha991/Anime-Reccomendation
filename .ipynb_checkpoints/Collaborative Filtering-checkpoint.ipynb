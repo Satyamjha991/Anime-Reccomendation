{
 "cells": [
  {
   "cell_type": "code",
   "execution_count": 1,
   "id": "6f601336",
   "metadata": {},
   "outputs": [],
   "source": [
    "import pandas as pd\n",
    "import numpy as np"
   ]
  },
  {
   "cell_type": "code",
   "execution_count": 2,
   "id": "56df524b",
   "metadata": {},
   "outputs": [],
   "source": [
    "import matplotlib.pyplot as plt\n",
    "import seaborn as sns\n",
    "import matplotlib as mpl\n",
    "import matplotlib.pylab as pylab\n",
    "%matplotlib inline\n",
    "pd.set_option('display.max_columns', 500)\n",
    "mpl.style.use('ggplot')\n",
    "sns.set_style('white')\n",
    "pylab.rcParams['figure.figsize'] = 12,8"
   ]
  },
  {
   "cell_type": "code",
   "execution_count": 3,
   "id": "eb767f8a",
   "metadata": {},
   "outputs": [],
   "source": [
    "import warnings\n",
    "warnings.filterwarnings('ignore')"
   ]
  },
  {
   "cell_type": "code",
   "execution_count": 4,
   "id": "fb7994e2",
   "metadata": {},
   "outputs": [],
   "source": [
    "anime_data=pd.read_csv('anime_data.csv')"
   ]
  },
  {
   "cell_type": "code",
   "execution_count": 5,
   "id": "95e80ecf",
   "metadata": {},
   "outputs": [
    {
     "data": {
      "text/plain": [
       "(11955, 35)"
      ]
     },
     "execution_count": 5,
     "metadata": {},
     "output_type": "execute_result"
    }
   ],
   "source": [
    "anime_data.shape"
   ]
  },
  {
   "cell_type": "code",
   "execution_count": 6,
   "id": "91ea5f37",
   "metadata": {},
   "outputs": [],
   "source": [
    "rating=pd.read_csv('rating_complete.csv')"
   ]
  },
  {
   "cell_type": "code",
   "execution_count": 7,
   "id": "4eeac015",
   "metadata": {},
   "outputs": [
    {
     "name": "stdout",
     "output_type": "stream",
     "text": [
      ">0 duplicates\n"
     ]
    }
   ],
   "source": [
    "duplicates=rating.duplicated()\n",
    "if duplicates.sum()>0:\n",
    "    print('>{} duplicates'.format(duplicates.sum()))\n",
    "    rating=rating[~duplicates]\n",
    "    \n",
    "print('>{} duplicates'.format(rating.duplicated().sum()))"
   ]
  },
  {
   "cell_type": "code",
   "execution_count": 32,
   "id": "1dfb3820",
   "metadata": {},
   "outputs": [
    {
     "ename": "AttributeError",
     "evalue": "'numpy.int64' object has no attribute 'query'",
     "output_type": "error",
     "traceback": [
      "\u001b[1;31m---------------------------------------------------------------------------\u001b[0m",
      "\u001b[1;31mAttributeError\u001b[0m                            Traceback (most recent call last)",
      "\u001b[1;32m<ipython-input-32-874907754d7d>\u001b[0m in \u001b[0;36m<module>\u001b[1;34m\u001b[0m\n\u001b[1;32m----> 1\u001b[1;33m \u001b[0mrating\u001b[0m\u001b[1;33m=\u001b[0m\u001b[0mrating\u001b[0m\u001b[1;33m.\u001b[0m\u001b[0mquery\u001b[0m\u001b[1;33m(\u001b[0m\u001b[1;34m'rating>6'\u001b[0m\u001b[1;33m)\u001b[0m\u001b[1;33m\u001b[0m\u001b[1;33m\u001b[0m\u001b[0m\n\u001b[0m",
      "\u001b[1;31mAttributeError\u001b[0m: 'numpy.int64' object has no attribute 'query'"
     ]
    }
   ],
   "source": [
    "rating=rating.query('rating>6')"
   ]
  },
  {
   "cell_type": "code",
   "execution_count": 20,
   "id": "bf3bb937",
   "metadata": {},
   "outputs": [
    {
     "data": {
      "text/plain": [
       "(44457610, 3)"
      ]
     },
     "execution_count": 20,
     "metadata": {},
     "output_type": "execute_result"
    }
   ],
   "source": [
    "rating.shape"
   ]
  },
  {
   "cell_type": "code",
   "execution_count": 31,
   "id": "922fa56a",
   "metadata": {},
   "outputs": [
    {
     "ename": "IndexError",
     "evalue": "invalid index to scalar variable.",
     "output_type": "error",
     "traceback": [
      "\u001b[1;31m---------------------------------------------------------------------------\u001b[0m",
      "\u001b[1;31mIndexError\u001b[0m                                Traceback (most recent call last)",
      "\u001b[1;32m<ipython-input-31-37a6993f3209>\u001b[0m in \u001b[0;36m<module>\u001b[1;34m\u001b[0m\n\u001b[1;32m----> 1\u001b[1;33m \u001b[0mn_rating\u001b[0m\u001b[1;33m=\u001b[0m\u001b[0mrating\u001b[0m\u001b[1;33m[\u001b[0m\u001b[1;34m'user_id'\u001b[0m\u001b[1;33m]\u001b[0m\u001b[1;33m.\u001b[0m\u001b[0mvalue_counts\u001b[0m\u001b[1;33m(\u001b[0m\u001b[1;33m)\u001b[0m\u001b[1;33m\u001b[0m\u001b[1;33m\u001b[0m\u001b[0m\n\u001b[0m\u001b[0;32m      2\u001b[0m \u001b[0mrating\u001b[0m\u001b[1;33m=\u001b[0m\u001b[0mrating\u001b[0m\u001b[1;33m[\u001b[0m\u001b[0mrating\u001b[0m\u001b[1;33m[\u001b[0m\u001b[1;34m'user_id'\u001b[0m\u001b[1;33m]\u001b[0m\u001b[1;33m.\u001b[0m\u001b[0misin\u001b[0m\u001b[1;33m(\u001b[0m\u001b[0mn_rating\u001b[0m\u001b[1;33m[\u001b[0m\u001b[0mn_rating\u001b[0m\u001b[1;33m>=\u001b[0m\u001b[1;36m0\u001b[0m\u001b[1;33m]\u001b[0m\u001b[1;33m.\u001b[0m\u001b[0mindex\u001b[0m\u001b[1;33m)\u001b[0m\u001b[1;33m]\u001b[0m\u001b[1;33m.\u001b[0m\u001b[0mcopy\u001b[0m\u001b[1;33m(\u001b[0m\u001b[1;33m)\u001b[0m\u001b[1;33m\u001b[0m\u001b[1;33m\u001b[0m\u001b[0m\n",
      "\u001b[1;31mIndexError\u001b[0m: invalid index to scalar variable."
     ]
    }
   ],
   "source": [
    "n_rating=rating['user_id'].value_counts()\n",
    "rating=rating[rating['user_id'].isin(n_rating[n_rating>=0].index)].copy()"
   ]
  },
  {
   "cell_type": "code",
   "execution_count": 25,
   "id": "37985d0e",
   "metadata": {},
   "outputs": [
    {
     "data": {
      "text/plain": [
       "(37557963, 3)"
      ]
     },
     "execution_count": 25,
     "metadata": {},
     "output_type": "execute_result"
    }
   ],
   "source": [
    "rating.shape"
   ]
  },
  {
   "cell_type": "code",
   "execution_count": 26,
   "id": "aefd65a5",
   "metadata": {},
   "outputs": [
    {
     "name": "stdout",
     "output_type": "stream",
     "text": [
      "11955 145080\n"
     ]
    }
   ],
   "source": [
    "unique_users = {int(x): i for i,x in enumerate(rating.user_id.unique())}\n",
    "unique_items = {int(x): i for i,x in enumerate(anime_data.anime_id.unique())}\n",
    "\n",
    "print(len(unique_items), len(unique_users))"
   ]
  },
  {
   "cell_type": "code",
   "execution_count": 27,
   "id": "e8f3f856",
   "metadata": {},
   "outputs": [],
   "source": [
    "util_mat = np.zeros((len(unique_items), len(unique_users)))"
   ]
  },
  {
   "cell_type": "code",
   "execution_count": 30,
   "id": "96aee344",
   "metadata": {},
   "outputs": [
    {
     "ename": "AttributeError",
     "evalue": "'numpy.int64' object has no attribute 'rename'",
     "output_type": "error",
     "traceback": [
      "\u001b[1;31m---------------------------------------------------------------------------\u001b[0m",
      "\u001b[1;31mAttributeError\u001b[0m                            Traceback (most recent call last)",
      "\u001b[1;32m<ipython-input-30-a089384a3399>\u001b[0m in \u001b[0;36m<module>\u001b[1;34m\u001b[0m\n\u001b[1;32m----> 1\u001b[1;33m \u001b[0mrating\u001b[0m\u001b[1;33m=\u001b[0m\u001b[0mrating\u001b[0m\u001b[1;33m.\u001b[0m\u001b[0mrename\u001b[0m\u001b[1;33m(\u001b[0m\u001b[0mcolumns\u001b[0m\u001b[1;33m=\u001b[0m\u001b[1;33m{\u001b[0m\u001b[1;34m'rating'\u001b[0m\u001b[1;33m:\u001b[0m\u001b[1;34m'user_rating'\u001b[0m\u001b[1;33m}\u001b[0m\u001b[1;33m)\u001b[0m\u001b[1;33m\u001b[0m\u001b[1;33m\u001b[0m\u001b[0m\n\u001b[0m",
      "\u001b[1;31mAttributeError\u001b[0m: 'numpy.int64' object has no attribute 'rename'"
     ]
    }
   ],
   "source": [
    "rating=rating.rename(columns={'rating':'user_rating'})"
   ]
  },
  {
   "cell_type": "code",
   "execution_count": 29,
   "id": "2e1d8768",
   "metadata": {},
   "outputs": [
    {
     "ename": "AttributeError",
     "evalue": "'numpy.int64' object has no attribute 'values'",
     "output_type": "error",
     "traceback": [
      "\u001b[1;31m---------------------------------------------------------------------------\u001b[0m",
      "\u001b[1;31mAttributeError\u001b[0m                            Traceback (most recent call last)",
      "\u001b[1;32m<ipython-input-29-4821aa8ab1d9>\u001b[0m in \u001b[0;36m<module>\u001b[1;34m\u001b[0m\n\u001b[1;32m----> 1\u001b[1;33m \u001b[1;32mfor\u001b[0m \u001b[0muser_id\u001b[0m\u001b[1;33m,\u001b[0m \u001b[0manime_id\u001b[0m\u001b[1;33m,\u001b[0m \u001b[0mrating\u001b[0m \u001b[1;32min\u001b[0m \u001b[0mrating\u001b[0m\u001b[1;33m.\u001b[0m\u001b[0mvalues\u001b[0m\u001b[1;33m:\u001b[0m\u001b[1;33m\u001b[0m\u001b[1;33m\u001b[0m\u001b[0m\n\u001b[0m\u001b[0;32m      2\u001b[0m     \u001b[0mutil_mat\u001b[0m\u001b[1;33m[\u001b[0m\u001b[0munique_items\u001b[0m\u001b[1;33m[\u001b[0m\u001b[0manime_id\u001b[0m\u001b[1;33m]\u001b[0m\u001b[1;33m,\u001b[0m \u001b[0munique_users\u001b[0m\u001b[1;33m[\u001b[0m\u001b[0muser_id\u001b[0m\u001b[1;33m]\u001b[0m\u001b[1;33m]\u001b[0m \u001b[1;33m=\u001b[0m \u001b[0mrating\u001b[0m\u001b[1;33m\u001b[0m\u001b[1;33m\u001b[0m\u001b[0m\n",
      "\u001b[1;31mAttributeError\u001b[0m: 'numpy.int64' object has no attribute 'values'"
     ]
    }
   ],
   "source": [
    "for user_id, anime_id, rating in rating.values:\n",
    "    util_mat[unique_items[anime_id], unique_users[user_id]] = rating"
   ]
  },
  {
   "cell_type": "code",
   "execution_count": null,
   "id": "bff416be",
   "metadata": {},
   "outputs": [],
   "source": []
  }
 ],
 "metadata": {
  "kernelspec": {
   "display_name": "Python 3.6 (tensorflow)",
   "language": "python",
   "name": "tensorflow"
  },
  "language_info": {
   "codemirror_mode": {
    "name": "ipython",
    "version": 3
   },
   "file_extension": ".py",
   "mimetype": "text/x-python",
   "name": "python",
   "nbconvert_exporter": "python",
   "pygments_lexer": "ipython3",
   "version": "3.7.10"
  }
 },
 "nbformat": 4,
 "nbformat_minor": 5
}
